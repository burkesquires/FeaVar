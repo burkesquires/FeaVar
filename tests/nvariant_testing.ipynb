{
 "cells": [
  {
   "cell_type": "code",
   "execution_count": null,
   "metadata": {},
   "outputs": [],
   "source": []
  },
  {
   "cell_type": "code",
   "execution_count": 4,
   "metadata": {},
   "outputs": [
    {
     "ename": "NameError",
     "evalue": "name 'ARGS' is not defined",
     "output_type": "error",
     "traceback": [
      "\u001b[0;31m---------------------------------------------------------------------------\u001b[0m",
      "\u001b[0;31mNameError\u001b[0m                                 Traceback (most recent call last)",
      "\u001b[0;32m<ipython-input-4-f79ac1b1f6b9>\u001b[0m in \u001b[0;36m<module>\u001b[0;34m()\u001b[0m\n\u001b[1;32m      1\u001b[0m \u001b[0;32mimport\u001b[0m \u001b[0msys\u001b[0m\u001b[0;34m,\u001b[0m \u001b[0mos\u001b[0m\u001b[0;34m\u001b[0m\u001b[0m\n\u001b[1;32m      2\u001b[0m \u001b[0msys\u001b[0m\u001b[0;34m.\u001b[0m\u001b[0mpath\u001b[0m\u001b[0;34m.\u001b[0m\u001b[0minsert\u001b[0m\u001b[0;34m(\u001b[0m\u001b[0;36m1\u001b[0m\u001b[0;34m,\u001b[0m \u001b[0mos\u001b[0m\u001b[0;34m.\u001b[0m\u001b[0mpath\u001b[0m\u001b[0;34m.\u001b[0m\u001b[0mjoin\u001b[0m\u001b[0;34m(\u001b[0m\u001b[0msys\u001b[0m\u001b[0;34m.\u001b[0m\u001b[0mpath\u001b[0m\u001b[0;34m[\u001b[0m\u001b[0;36m0\u001b[0m\u001b[0;34m]\u001b[0m\u001b[0;34m,\u001b[0m \u001b[0;34m'..'\u001b[0m\u001b[0;34m)\u001b[0m\u001b[0;34m)\u001b[0m\u001b[0;34m\u001b[0m\u001b[0m\n\u001b[0;32m----> 3\u001b[0;31m \u001b[0;32mimport\u001b[0m \u001b[0mnvariant\u001b[0m\u001b[0;34m.\u001b[0m\u001b[0mnvariant\u001b[0m\u001b[0;34m\u001b[0m\u001b[0m\n\u001b[0m",
      "\u001b[0;32m~/Documents/GitHub/nvariant/nvariant/nvariant.py\u001b[0m in \u001b[0;36m<module>\u001b[0;34m()\u001b[0m\n\u001b[1;32m     31\u001b[0m \u001b[0mD\u001b[0m \u001b[0;34m=\u001b[0m \u001b[0mdatetime\u001b[0m\u001b[0;34m.\u001b[0m\u001b[0mdate\u001b[0m\u001b[0;34m.\u001b[0m\u001b[0mtoday\u001b[0m\u001b[0;34m(\u001b[0m\u001b[0;34m)\u001b[0m\u001b[0;34m\u001b[0m\u001b[0m\n\u001b[1;32m     32\u001b[0m \u001b[0mlogging\u001b[0m\u001b[0;34m.\u001b[0m\u001b[0mFileHandler\u001b[0m\u001b[0;34m(\u001b[0m\u001b[0;34m'%s/%s.log'\u001b[0m \u001b[0;34m%\u001b[0m \u001b[0;34m(\u001b[0m\u001b[0mlog_directory\u001b[0m\u001b[0;34m,\u001b[0m \u001b[0mD\u001b[0m\u001b[0;34m.\u001b[0m\u001b[0misoformat\u001b[0m\u001b[0;34m(\u001b[0m\u001b[0;34m)\u001b[0m\u001b[0;34m)\u001b[0m\u001b[0;34m)\u001b[0m\u001b[0;34m\u001b[0m\u001b[0m\n\u001b[0;32m---> 33\u001b[0;31m \u001b[0mlogging\u001b[0m\u001b[0;34m.\u001b[0m\u001b[0mbasicConfig\u001b[0m\u001b[0;34m(\u001b[0m\u001b[0mstream\u001b[0m\u001b[0;34m=\u001b[0m\u001b[0msys\u001b[0m\u001b[0;34m.\u001b[0m\u001b[0mstdout\u001b[0m\u001b[0;34m,\u001b[0m \u001b[0mlevel\u001b[0m\u001b[0;34m=\u001b[0m\u001b[0mARGS\u001b[0m\u001b[0;34m.\u001b[0m\u001b[0mloglevel\u001b[0m\u001b[0;34m.\u001b[0m\u001b[0mupper\u001b[0m\u001b[0;34m(\u001b[0m\u001b[0;34m)\u001b[0m\u001b[0;34m)\u001b[0m\u001b[0;34m\u001b[0m\u001b[0m\n\u001b[0m\u001b[1;32m     34\u001b[0m \u001b[0;34m\u001b[0m\u001b[0m\n\u001b[1;32m     35\u001b[0m \u001b[0;34m\u001b[0m\u001b[0m\n",
      "\u001b[0;31mNameError\u001b[0m: name 'ARGS' is not defined"
     ]
    }
   ],
   "source": [
    "import sys, os\n",
    "sys.path.insert(1, os.path.join(sys.path[0], '..'))\n",
    "import nvariant.nvariant"
   ]
  },
  {
   "cell_type": "code",
   "execution_count": 3,
   "metadata": {},
   "outputs": [
    {
     "ename": "AttributeError",
     "evalue": "module 'nvariant' has no attribute 'parse_position_input'",
     "output_type": "error",
     "traceback": [
      "\u001b[0;31m---------------------------------------------------------------------------\u001b[0m",
      "\u001b[0;31mAttributeError\u001b[0m                            Traceback (most recent call last)",
      "\u001b[0;32m<ipython-input-3-d7eee11297b3>\u001b[0m in \u001b[0;36m<module>\u001b[0;34m()\u001b[0m\n\u001b[0;32m----> 1\u001b[0;31m \u001b[0mnvariant\u001b[0m\u001b[0;34m.\u001b[0m\u001b[0mparse_position_input\u001b[0m\u001b[0;34m(\u001b[0m\u001b[0;34m\"31-40,41,42,45 47\"\u001b[0m\u001b[0;34m)\u001b[0m\u001b[0;34m\u001b[0m\u001b[0m\n\u001b[0m",
      "\u001b[0;31mAttributeError\u001b[0m: module 'nvariant' has no attribute 'parse_position_input'"
     ]
    }
   ],
   "source": [
    "nvariant.parse_position_input(\"31-40,41,42,45 47\")"
   ]
  },
  {
   "cell_type": "code",
   "execution_count": 44,
   "metadata": {},
   "outputs": [],
   "source": [
    "def adjust_positions_for_insertions(positions, ref_seq):\n",
    "    \"\"\"\n",
    "    Takes a string argument of positions and the aligned reference sequence and\n",
    "    corrects the sequence feature positions for any insertions in the reference sequence.\n",
    "\n",
    "    Parameters\n",
    "    ----------\n",
    "    positions : list\n",
    "        The positions of the reference sequence to assemble a sequence feature from.\n",
    "\n",
    "    ref_seq : string\n",
    "        The reference sequence pulled from the alignment (with insertion dashes included (if applicable))\n",
    "\n",
    "    \"\"\"\n",
    "    # SFVT      [   23  45   89   ]\n",
    "    # Positions [--123--456-78901-]\n",
    "    # Reference [--TTA--GGG-TAGGG-]\n",
    "    # Aligned   [AATTAAAGGGTTAGGGG]\n",
    "    # Positions [12345678901234567]\n",
    "    # Output    [   45  89   13,14]\n",
    "    # dashes    [0, 1, 5, 6, 10, 17]\n",
    "\n",
    "\n",
    "    # TODO: check to see if there are any other characters?, ike a period or substitute characters\n",
    "\n",
    "    # get positions of all dashes in the reference sequence [0, 1, 5, 6, 10,16]\n",
    "\n",
    "    c = '-'\n",
    "    dash_indicies = [pos for pos, char in enumerate(ref_seq) if char == c]\n",
    "\n",
    "    # NOTE: remember that the indices begin at 0 and the sf positions begin at 1\n",
    "\n",
    "    prior_position = 0\n",
    "    index_adjustment = 0\n",
    "    corrected_positions = []\n",
    "\n",
    "    # loop though the sf positions\n",
    "\n",
    "    for position in positions:\n",
    "\n",
    "        # Check for any dashes (indices + 1) between the prior position and the current position\n",
    "\n",
    "        dashes_in_range = len(list(x for x in dash_indicies if prior_position <= x <= position))\n",
    "        print(dashes_in_range)\n",
    "        # if any dashes are found, increment the adjustment for each dash AND add adjustment to current SF position\n",
    "\n",
    "        index_adjustment += dashes_in_ange\n",
    "\n",
    "        # reset prior position, repeat\n",
    "\n",
    "        corrected_positions.append(position + index_adjustment)\n",
    "\n",
    "        prior_position = position\n",
    "\n",
    "    return corrected_positions\n"
   ]
  },
  {
   "cell_type": "code",
   "execution_count": 46,
   "metadata": {},
   "outputs": [
    {
     "name": "stdout",
     "output_type": "stream",
     "text": [
      "2\n"
     ]
    },
    {
     "ename": "NameError",
     "evalue": "name 'dashes_in_ange' is not defined",
     "output_type": "error",
     "traceback": [
      "\u001b[0;31m---------------------------------------------------------------------------\u001b[0m",
      "\u001b[0;31mNameError\u001b[0m                                 Traceback (most recent call last)",
      "\u001b[0;32m<ipython-input-46-1f583792fec1>\u001b[0m in \u001b[0;36m<module>\u001b[0;34m()\u001b[0m\n\u001b[1;32m     11\u001b[0m \u001b[0;31m#print(align[1].seq)\u001b[0m\u001b[0;34m\u001b[0m\u001b[0;34m\u001b[0m\u001b[0m\n\u001b[1;32m     12\u001b[0m \u001b[0;34m\u001b[0m\u001b[0m\n\u001b[0;32m---> 13\u001b[0;31m \u001b[0mcorrected_positions\u001b[0m \u001b[0;34m=\u001b[0m \u001b[0madjust_positions_for_insertions\u001b[0m\u001b[0;34m(\u001b[0m\u001b[0;34m[\u001b[0m\u001b[0;36m1\u001b[0m\u001b[0;34m,\u001b[0m \u001b[0;36m5\u001b[0m\u001b[0;34m,\u001b[0m \u001b[0;36m10\u001b[0m\u001b[0;34m,\u001b[0m \u001b[0;36m15\u001b[0m\u001b[0;34m]\u001b[0m\u001b[0;34m,\u001b[0m \u001b[0malign\u001b[0m\u001b[0;34m[\u001b[0m\u001b[0;36m1\u001b[0m\u001b[0;34m]\u001b[0m\u001b[0;34m.\u001b[0m\u001b[0mseq\u001b[0m\u001b[0;34m)\u001b[0m\u001b[0;34m\u001b[0m\u001b[0m\n\u001b[0m\u001b[1;32m     14\u001b[0m \u001b[0;34m\u001b[0m\u001b[0m\n\u001b[1;32m     15\u001b[0m \u001b[0mcorrected_positions\u001b[0m\u001b[0;34m\u001b[0m\u001b[0m\n",
      "\u001b[0;32m<ipython-input-44-35fd2e04a79e>\u001b[0m in \u001b[0;36madjust_positions_for_insertions\u001b[0;34m(positions, ref_seq)\u001b[0m\n\u001b[1;32m     45\u001b[0m         \u001b[0;31m# if any dashes are found, increment the adjustment for each dash AND add adjustment to current SF position\u001b[0m\u001b[0;34m\u001b[0m\u001b[0;34m\u001b[0m\u001b[0m\n\u001b[1;32m     46\u001b[0m \u001b[0;34m\u001b[0m\u001b[0m\n\u001b[0;32m---> 47\u001b[0;31m         \u001b[0mindex_adjustment\u001b[0m \u001b[0;34m+=\u001b[0m \u001b[0mdashes_in_ange\u001b[0m\u001b[0;34m\u001b[0m\u001b[0m\n\u001b[0m\u001b[1;32m     48\u001b[0m \u001b[0;34m\u001b[0m\u001b[0m\n\u001b[1;32m     49\u001b[0m         \u001b[0;31m# reset prior position, repeat\u001b[0m\u001b[0;34m\u001b[0m\u001b[0;34m\u001b[0m\u001b[0m\n",
      "\u001b[0;31mNameError\u001b[0m: name 'dashes_in_ange' is not defined"
     ]
    }
   ],
   "source": [
    "#        self.assertEqual(2, len(alignment))\n",
    "#        self.assertEqual(alignment[0].id, \"gi|4959044|gb|AAD34209.1|AF069\")\n",
    "#        self.assertEqual(alignment[1].id, \"gi|671626|emb|CAA85685.1|\")\n",
    "\n",
    "from Bio.Alphabet import IUPAC, Gapped\n",
    "from Bio.Align import MultipleSeqAlignment\n",
    "align = MultipleSeqAlignment([], Gapped(IUPAC.unambiguous_dna, \"-\"))\n",
    "align.add_sequence(\"Alpha\", \"ACTGCTAGCTAGACTGCTAGCTAG\")\n",
    "align.add_sequence(\"Beta\",  \"--T-CTAGCTAG-CTGCTAGCTAG\")\n",
    "align.add_sequence(\"Gamma\", \"ACTGCTAGATAGACTGCTAGCTAG\")\n",
    "print(align[1].seq)\n",
    "\n",
    "corrected_positions = adjust_positions_for_insertions([1, 5, 10, 15, align[1].seq)\n",
    "\n",
    "corrected_positions"
   ]
  },
  {
   "cell_type": "code",
   "execution_count": 29,
   "metadata": {},
   "outputs": [
    {
     "data": {
      "text/plain": [
       "SeqRecord(seq=Seq('MFQAFPGDYDSGSRCSSSPSAESQYLSSVDSFGSPPTAAASQECAGLGEMPGSF...LAL', SingleLetterAlphabet()), id='FOSB_MOUSE', name='<unknown name>', description='FOSB_MOUSE', dbxrefs=[])"
      ]
     },
     "execution_count": 29,
     "metadata": {},
     "output_type": "execute_result"
    }
   ],
   "source": [
    "from Bio import AlignIO\n",
    "\n",
    "\n",
    "\n",
    "alignments = AlignIO.read(\"clustal_align.clw\", \"clustal\")\n",
    "alignment = alignments[0]\n",
    "alignment"
   ]
  },
  {
   "cell_type": "code",
   "execution_count": 24,
   "metadata": {},
   "outputs": [
    {
     "ename": "AssertionError",
     "evalue": "",
     "output_type": "error",
     "traceback": [
      "\u001b[0;31m---------------------------------------------------------------------------\u001b[0m",
      "\u001b[0;31mAssertionError\u001b[0m                            Traceback (most recent call last)",
      "\u001b[0;32m<ipython-input-24-137e91800a93>\u001b[0m in \u001b[0;36m<module>\u001b[0;34m()\u001b[0m\n\u001b[1;32m    118\u001b[0m \"\"\"\n\u001b[1;32m    119\u001b[0m \u001b[0;34m\u001b[0m\u001b[0m\n\u001b[0;32m--> 120\u001b[0;31m \u001b[0malignments\u001b[0m \u001b[0;34m=\u001b[0m \u001b[0mlist\u001b[0m\u001b[0;34m(\u001b[0m\u001b[0mClustalIterator\u001b[0m\u001b[0;34m(\u001b[0m\u001b[0mStringIO\u001b[0m\u001b[0;34m(\u001b[0m\u001b[0maln_example1\u001b[0m\u001b[0;34m)\u001b[0m\u001b[0;34m)\u001b[0m\u001b[0;34m)\u001b[0m\u001b[0;34m\u001b[0m\u001b[0m\n\u001b[0m\u001b[1;32m    121\u001b[0m \u001b[0malignment\u001b[0m \u001b[0;34m=\u001b[0m \u001b[0malignments\u001b[0m\u001b[0;34m[\u001b[0m\u001b[0;36m0\u001b[0m\u001b[0;34m]\u001b[0m\u001b[0;34m\u001b[0m\u001b[0m\n\u001b[1;32m    122\u001b[0m \u001b[0mself\u001b[0m\u001b[0;34m.\u001b[0m\u001b[0massertEqual\u001b[0m\u001b[0;34m(\u001b[0m\u001b[0;36m2\u001b[0m\u001b[0;34m,\u001b[0m \u001b[0mlen\u001b[0m\u001b[0;34m(\u001b[0m\u001b[0malignment\u001b[0m\u001b[0;34m)\u001b[0m\u001b[0;34m)\u001b[0m\u001b[0;34m\u001b[0m\u001b[0m\n",
      "\u001b[0;32m~/.local/lib/python3.6/site-packages/Bio/AlignIO/ClustalIO.py\u001b[0m in \u001b[0;36m__next__\u001b[0;34m(self)\u001b[0m\n\u001b[1;32m    180\u001b[0m                 \u001b[0;31m# Check for blank line (or end of file)\u001b[0m\u001b[0;34m\u001b[0m\u001b[0;34m\u001b[0m\u001b[0m\n\u001b[1;32m    181\u001b[0m                 \u001b[0mline\u001b[0m \u001b[0;34m=\u001b[0m \u001b[0mhandle\u001b[0m\u001b[0;34m.\u001b[0m\u001b[0mreadline\u001b[0m\u001b[0;34m(\u001b[0m\u001b[0;34m)\u001b[0m\u001b[0;34m\u001b[0m\u001b[0m\n\u001b[0;32m--> 182\u001b[0;31m                 \u001b[0;32massert\u001b[0m \u001b[0mline\u001b[0m\u001b[0;34m.\u001b[0m\u001b[0mstrip\u001b[0m\u001b[0;34m(\u001b[0m\u001b[0;34m)\u001b[0m \u001b[0;34m==\u001b[0m \u001b[0;34m\"\"\u001b[0m\u001b[0;34m\u001b[0m\u001b[0m\n\u001b[0m\u001b[1;32m    183\u001b[0m                 \u001b[0;32mbreak\u001b[0m\u001b[0;34m\u001b[0m\u001b[0m\n\u001b[1;32m    184\u001b[0m             \u001b[0;32melse\u001b[0m\u001b[0;34m:\u001b[0m\u001b[0;34m\u001b[0m\u001b[0m\n",
      "\u001b[0;31mAssertionError\u001b[0m: "
     ]
    }
   ],
   "source": [
    "import unittest\n",
    "\n",
    "from Bio._py3k import StringIO\n",
    "\n",
    "from Bio.AlignIO.ClustalIO import ClustalIterator, ClustalWriter\n",
    "\n",
    "# This is a truncated version of the example in Tests/cw02.aln\n",
    "# Notice the inclusion of sequence numbers (right hand side)\n",
    "aln_example1 = \\\n",
    "\"\"\"CLUSTAL W (1.81) multiple sequence alignment\n",
    "gi|4959044|gb|AAD34209.1|AF069      MENSDSNDKGSDQSAAQRRSQMDRLDREEAFYQFVNNLSEEDYRLMRDNN 50\n",
    "gi|671626|emb|CAA85685.1|           ---------MSPQTETKASVGFKAGVKEYKLTYYTPEYETKDTDILAAFR 41\n",
    "                                              * *: ::    :.   :*  :  :. : . :*  ::   .\n",
    "gi|4959044|gb|AAD34209.1|AF069      LLGTPGESTEEELLRRLQQIKEGPPPQSPDENRAGESSDDVTNSDSIIDW 100\n",
    "gi|671626|emb|CAA85685.1|           VTPQPG-----------------VPPEEAGAAVAAESSTGT--------- 65\n",
    "                                    :   **                  **:...   *.*** ..         \n",
    "gi|4959044|gb|AAD34209.1|AF069      LNSVRQTGNTTRSRQRGNQSWRAVSRTNPNSGDFRFSLEINVNRNNGSQT 150\n",
    "gi|671626|emb|CAA85685.1|           WTTVWTDGLTSLDRYKG-----RCYHIEPVPG------------------ 92\n",
    "                                     .:*   * *: .* :*        : :* .*                  \n",
    "gi|4959044|gb|AAD34209.1|AF069      SENESEPSTRRLSVENMESSSQRQMENSASESASARPSRAERNSTEAVTE 200\n",
    "gi|671626|emb|CAA85685.1|           -EKDQCICYVAYPLDLFEEGSVTNMFTSIVGNVFGFKALRALRLEDLRIP 141\n",
    "                                     *::.  .    .:: :*..*  :* .*   .. .  :    .  :    \n",
    "gi|4959044|gb|AAD34209.1|AF069      VPTTRAQRRA 210\n",
    "gi|671626|emb|CAA85685.1|           VAYVKTFQGP 151\n",
    "                                    *. .:: : .\n",
    "\"\"\"  # noqa : W291\n",
    "\n",
    "# This example is a truncated version of the dataset used here:\n",
    "# http://virgil.ruc.dk/kurser/Sekvens/Treedraw.htm\n",
    "# with the last record repeated twice (deliberate toture test)\n",
    "aln_example2 = \\\n",
    "\"\"\"CLUSTAL X (1.83) multiple sequence alignment\n",
    "V_Harveyi_PATH                 --MKNWIKVAVAAIA--LSAA------------------TVQAATEVKVG\n",
    "B_subtilis_YXEM                MKMKKWTVLVVAALLAVLSACG------------NGNSSSKEDDNVLHVG\n",
    "B_subtilis_GlnH_homo_YCKK      MKKALLALFMVVSIAALAACGAGNDNQSKDNAKDGDLWASIKKKGVLTVG\n",
    "YA80_HAEIN                     MKKLLFTTALLTGAIAFSTF-----------SHAGEIADRVEKTKTLLVG\n",
    "FLIY_ECOLI                     MKLAHLGRQALMGVMAVALVAG---MSVKSFADEG-LLNKVKERGTLLVG\n",
    "E_coli_GlnH                    --MKSVLKVSLAALTLAFAVS------------------SHAADKKLVVA\n",
    "Deinococcus_radiodurans        -MKKSLLSLKLSGLLVPSVLALS--------LSACSSPSSTLNQGTLKIA\n",
    "HISJ_E_COLI                    MKKLVLSLSLVLAFSSATAAF-------------------AAIPQNIRIG\n",
    "HISJ_E_COLI                    MKKLVLSLSLVLAFSSATAAF-------------------AAIPQNIRIG\n",
    "                                         : .                                 : :.\n",
    "V_Harveyi_PATH                 MSGRYFPFTFVKQ--DKLQGFEVDMWDEIGKRNDYKIEYVTANFSGLFGL\n",
    "B_subtilis_YXEM                ATGQSYPFAYKEN--GKLTGFDVEVMEAVAKKIDMKLDWKLLEFSGLMGE\n",
    "B_subtilis_GlnH_homo_YCKK      TEGTYEPFTYHDKDTDKLTGYDVEVITEVAKRLGLKVDFKETQWGSMFAG\n",
    "YA80_HAEIN                     TEGTYAPFTFHDK-SGKLTGFDVEVIRKVAEKLGLKVEFKETQWDAMYAG\n",
    "FLIY_ECOLI                     LEGTYPPFSFQGD-DGKLTGFEVEFAQQLAKHLGVEASLKPTKWDGMLAS\n",
    "E_coli_GlnH                    TDTAFVPFEFKQG--DKYVGFDVDLWAAIAKELKLDYELKPMDFSGIIPA\n",
    "Deinococcus_radiodurans        MEGTYPPFTSKNE-QGELVGFDVDIAKAVAQKLNLKPEFVLTEWSGILAG\n",
    "HISJ_E_COLI                    TDPTYAPFESKNS-QGELVGFDIDLAKELCKRINTQCTFVENPLDALIPS\n",
    "HISJ_E_COLI                    TDPTYAPFESKNS-QGELVGFDIDLAKELCKRINTQCTFVENPLDALIPS\n",
    "                                     **       .:  *::::.   : :.   .        ..:   \n",
    "V_Harveyi_PATH                 LETGRIDTISNQITMTDARKAKYLFADPYVVDG-AQI\n",
    "B_subtilis_YXEM                LQTGKLDTISNQVAVTDERKETYNFTKPYAYAG-TQI\n",
    "B_subtilis_GlnH_homo_YCKK      LNSKRFDVVANQVG-KTDREDKYDFSDKYTTSR-AVV\n",
    "YA80_HAEIN                     LNAKRFDVIANQTNPSPERLKKYSFTTPYNYSG-GVI\n",
    "FLIY_ECOLI                     LDSKRIDVVINQVTISDERKKKYDFSTPYTISGIQAL\n",
    "E_coli_GlnH                    LQTKNVDLALAGITITDERKKAIDFSDGYYKSG-LLV\n",
    "Deinococcus_radiodurans        LQANKYDVIVNQVGITPERQNSIGFSQPYAYSRPEII\n",
    "HISJ_E_COLI                    LKAKKIDAIMSSLSITEKRQQEIAFTDKLYAADSRLV\n",
    "HISJ_E_COLI                    LKAKKIDAIMSSLSITEKRQQEIAFTDKLYAADSRLV\n",
    "                               *.: . *        .  *     *:          :\n",
    "\"\"\"  # noqa : W291\n",
    "\n",
    "\n",
    "aln_example3 = \\\n",
    "\"\"\"CLUSTAL 2.0.9 multiple sequence alignment\n",
    "Test1seq             ------------------------------------------------------------\n",
    "AT3G20900.1-SEQ      ATGAACAAAGTAGCGAGGAAGAACAAAACATCAGGTGAACAAAAAAAAAACTCAATCCAC\n",
    "AT3G20900.1-CDS      ------------------------------------------------------------\n",
    "                                                                                 \n",
    "Test1seq             -----AGTTACAATAACTGACGAAGCTAAGTAGGCTACTAATTAACGTCATCAACCTAAT\n",
    "AT3G20900.1-SEQ      ATCAAAGTTACAATAACTGACGAAGCTAAGTAGGCTAGAAATTAAAGTCATCAACCTAAT\n",
    "AT3G20900.1-CDS      ------------------------------------------------------------\n",
    "                                                                                 \n",
    "Test1seq             ACATAGCACTTAGAAAAAAGTGAAGTAAGAAAATATAAAATAATAAAAGGGTGGGTTATC\n",
    "AT3G20900.1-SEQ      ACATAGCACTTAGAAAAAAGTGAAGCAAGAAAATATAAAATAATAAAAGGGTGGGTTATC\n",
    "AT3G20900.1-CDS      ------------------------------------------------------------\n",
    "                                                                                 \n",
    "Test1seq             AATTGATAGTGTAAATCATCGTATTCCGGTGATATACCCTACCACAAAAACTCAAACCGA\n",
    "AT3G20900.1-SEQ      AATTGATAGTGTAAATCATAGTTGATTTTTGATATACCCTACCACAAAAACTCAAACCGA\n",
    "AT3G20900.1-CDS      ------------------------------------------------------------\n",
    "                                                                                 \n",
    "Test1seq             CTTGATTCAAATCATCTCAATAAATTAGCGCCAAAATAATGAAAAAAATAATAACAAACA\n",
    "AT3G20900.1-SEQ      CTTGATTCAAATCATCTCAAAAAACAAGCGCCAAAATAATGAAAAAAATAATAACAAAAA\n",
    "AT3G20900.1-CDS      ------------------------------------------------------------\n",
    "                                                                                 \n",
    "Test1seq             AAAACAAACCAAAATAAGAAAAAACATTACGCAAAACATAATAATTTACTCTTCGTTATT\n",
    "AT3G20900.1-SEQ      CAAACAAACCAAAATAAGAAAAAACATTACGCAAAACATAATAATTTACTCTTCGTTATT\n",
    "AT3G20900.1-CDS      ------------------------------------------------------------\n",
    "                                                                                 \n",
    "Test1seq             GTATTAACAAATCAAAGAGCTGAATTTTGATCACCTGCTAATACTACTTTCTGTATTGAT\n",
    "AT3G20900.1-SEQ      GTATTAACAAATCAAAGAGATGAATTTTGATCACCTGCTAATACTACTTTCTGTATTGAT\n",
    "AT3G20900.1-CDS      ------------------------------------------------------------\n",
    "                                                                                 \n",
    "Test1seq             CCTATATCAACGTAAACAAAGATACTAATAATTAACTAAAAGTACGTTCATCGATCGTGT\n",
    "AT3G20900.1-SEQ      CCTATATCAAAAAAAAAAAAGATACTAATAATTAACTAAAAGTACGTTCATCGATCGTGT\n",
    "AT3G20900.1-CDS      ------------------------------------------------------ATGAAC\n",
    "                                                                             *   \n",
    "Test1seq             TCGTTGACGAAGAAGAGCTCTATCTCCGGCGGAGCAAAGAAAACGATCTGTCTCCGTCGT\n",
    "AT3G20900.1-SEQ      GCGTTGACGAAGAAGAGCTCTATCTCCGGCGGAGCAAAGAAAACGATCTGTCTCCGTCGT\n",
    "AT3G20900.1-CDS      AAAGTAGCGAGGAAGAACAAAACATC------AGCAAAGAAAACGATCTGTCTCCGTCGT\n",
    "                         *  *** ***** *   *  **      ****************************\n",
    "Test1seq             AACACACGGTCGCTAGAGAAACTTTGCTTCTTCGGCGCCGGTGGACACGTCAGCATCTCC\n",
    "AT3G20900.1-SEQ      AACACACAGTTTTTCGAGACCCTTTGCTTCTTCGGCGCCGGTGGACACGTCAGCATCTCC\n",
    "AT3G20900.1-CDS      AACACACAGTTTTTCGAGACCCTTTGCTTCTTCGGCGCCGGTGGACACGTCAGCATCTCC\n",
    "                     ******* **   * ****  ***************************************\n",
    "Test1seq             GGTATCCTAGACTTCTTGGCTTTCGGGGTACAACAACCGCGTGGTGACGTCAGCACCGCT\n",
    "AT3G20900.1-SEQ      GGTATCCTAGACTTCTTGGCTTTCGGGGTACAACAACCGCCTGGTGACGTCAGCACCGCT\n",
    "AT3G20900.1-CDS      GGTATCCTAGACTTCTTGGCTTTCGGGGTACAACAACCGCCTGGTGACGTCAGCACCGCT\n",
    "                     **************************************** *******************\n",
    "Test1seq             GCTGGGGATGGAGAGGGAACAGAGTT-\n",
    "AT3G20900.1-SEQ      GCTGGGGATGGAGAGGGAACAGAGTAG\n",
    "AT3G20900.1-CDS      GCTGGGGATGGAGAGGGAACAGAGTAG\n",
    "                     *************************  \n",
    "\"\"\"  # noqa : W291\n",
    "\n",
    "aln_example4 = \\\n",
    "\"\"\"Kalign (2.0) alignment in ClustalW format\n",
    "Test1seq             GCTGGGGATGGAGAGGGAACAGAGTT-\n",
    "AT3G20900.1-SEQ      GCTGGGGATGGAGAGGGAACAGAGTAG\n",
    "\"\"\"\n",
    "\n",
    "alignments = list(ClustalIterator(StringIO(aln_example1)))\n",
    "alignment = alignments[0]\n",
    "self.assertEqual(2, len(alignment))\n",
    "self.assertEqual(alignment[0].id, \"gi|4959044|gb|AAD34209.1|AF069\")\n",
    "self.assertEqual(alignment[1].id, \"gi|671626|emb|CAA85685.1|\")\n",
    "\n",
    "adjust_positions_for_insertions(\"1, 5, 10, 25\", alignment[1].seq)"
   ]
  },
  {
   "cell_type": "code",
   "execution_count": 2,
   "metadata": {},
   "outputs": [
    {
     "ename": "ModuleNotFoundError",
     "evalue": "No module named 'nvariant'",
     "output_type": "error",
     "traceback": [
      "\u001b[0;31m---------------------------------------------------------------------------\u001b[0m",
      "\u001b[0;31mModuleNotFoundError\u001b[0m                       Traceback (most recent call last)",
      "\u001b[0;32m<ipython-input-2-18d9e7682fdc>\u001b[0m in \u001b[0;36m<module>\u001b[0;34m()\u001b[0m\n\u001b[1;32m      1\u001b[0m \u001b[0;32mimport\u001b[0m \u001b[0mpandas\u001b[0m \u001b[0;32mas\u001b[0m \u001b[0mpd\u001b[0m\u001b[0;34m\u001b[0m\u001b[0m\n\u001b[1;32m      2\u001b[0m \u001b[0;34m\u001b[0m\u001b[0m\n\u001b[0;32m----> 3\u001b[0;31m \u001b[0;32mimport\u001b[0m \u001b[0mnvariant\u001b[0m\u001b[0;34m\u001b[0m\u001b[0m\n\u001b[0m\u001b[1;32m      4\u001b[0m \u001b[0;34m\u001b[0m\u001b[0m\n\u001b[1;32m      5\u001b[0m input_df = pd.DataFrame.from_dict({\n",
      "\u001b[0;31mModuleNotFoundError\u001b[0m: No module named 'nvariant'"
     ]
    }
   ],
   "source": [
    "import pandas as pd\n",
    "\n",
    "import nvariant\n",
    "\n",
    "input_df = pd.DataFrame.from_dict({\n",
    "    'id': ['sequence1', 'sequence2', 'sequence3', 'sequence4', 'sequence5'],\n",
    "    'variant_type': ['VT001', 'VT002', 'VT001', 'VT002', 'VT001']\n",
    "})\n",
    "\n",
    "\n",
    "file_path = \"\"\n",
    "\n",
    "#assert_dict_equal(expected, my_func(input).to_dict(), \"oops, there's a bug...\")\n",
    "nvariant.count_seqs_per_variant_type(input_df, file_path)"
   ]
  },
  {
   "cell_type": "code",
   "execution_count": null,
   "metadata": {},
   "outputs": [],
   "source": []
  }
 ],
 "metadata": {
  "kernelspec": {
   "display_name": "Python 3",
   "language": "python",
   "name": "python3"
  },
  "language_info": {
   "codemirror_mode": {
    "name": "ipython",
    "version": 3
   },
   "file_extension": ".py",
   "mimetype": "text/x-python",
   "name": "python",
   "nbconvert_exporter": "python",
   "pygments_lexer": "ipython3",
   "version": "3.6.6"
  }
 },
 "nbformat": 4,
 "nbformat_minor": 2
}
