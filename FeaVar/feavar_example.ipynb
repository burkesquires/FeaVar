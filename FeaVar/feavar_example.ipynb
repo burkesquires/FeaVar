{
 "cells": [
  {
   "cell_type": "code",
   "execution_count": 10,
   "metadata": {
    "collapsed": true,
    "ExecuteTime": {
     "end_time": "2023-12-29T22:34:17.870216Z",
     "start_time": "2023-12-29T22:34:16.656346Z"
    }
   },
   "outputs": [
    {
     "name": "stdout",
     "output_type": "stream",
     "text": [
      "usage: FeaVar.py [-h] -a ALIGNMENT [-f ALIGNMENT_FORMAT] -r\r\n",
      "                 REFERENCE_IDENTIFIER -p POSITIONS [-d PROJECT_DIRECTORY]\r\n",
      "                 [-m METADATA_FILE] [-t TOP] [-log LOG_LEVEL]\r\n",
      "\r\n",
      "options:\r\n",
      "  -h, --help            show this help message and exit\r\n",
      "  -a ALIGNMENT, --alignment ALIGNMENT\r\n",
      "                        The name (and path) of the alignment file. Format:\r\n",
      "                        clustal\r\n",
      "  -f ALIGNMENT_FORMAT, --alignment_format ALIGNMENT_FORMAT\r\n",
      "                        The alignment file format. Default = clustal\r\n",
      "  -r REFERENCE_IDENTIFIER, --reference_identifier REFERENCE_IDENTIFIER\r\n",
      "                        The reference sequence identifier; An accession or\r\n",
      "                        gid: AB01223\r\n",
      "  -p POSITIONS, --positions POSITIONS\r\n",
      "                        The position(s) of the sequence feature, enclosed in\r\n",
      "                        quotes, comma separated, dashes for ranges. Example:\r\n",
      "                        '100-110' or '100-110,120,130'\r\n",
      "  -d PROJECT_DIRECTORY, --project_directory PROJECT_DIRECTORY\r\n",
      "                        The directory of the project.\r\n",
      "  -m METADATA_FILE, --metadata_file METADATA_FILE\r\n",
      "                        The metadata file (tab delimited).\r\n",
      "  -t TOP, --top TOP     The number (top) of variant types to plot\r\n",
      "                        (default=10).\r\n",
      "  -log LOG_LEVEL, --log_level LOG_LEVEL\r\n",
      "                        What level of logging would you like to see? (info,\r\n",
      "                        debug, error; default=info).\r\n"
     ]
    }
   ],
   "source": [
    "!python FeaVar.py -h"
   ]
  },
  {
   "cell_type": "code",
   "execution_count": 9,
   "outputs": [
    {
     "name": "stdout",
     "output_type": "stream",
     "text": [
      "Analysis complete.\r\n"
     ]
    }
   ],
   "source": [
    "!python FeaVar.py -a ../data/flu_test_small.clw -p \"124-142\" -r CY021716"
   ],
   "metadata": {
    "collapsed": false,
    "ExecuteTime": {
     "end_time": "2023-12-29T22:33:56.085728Z",
     "start_time": "2023-12-29T22:33:54.910744Z"
    }
   }
  },
  {
   "cell_type": "code",
   "execution_count": null,
   "outputs": [],
   "source": [],
   "metadata": {
    "collapsed": false
   }
  }
 ],
 "metadata": {
  "kernelspec": {
   "name": "python3",
   "language": "python",
   "display_name": "Python 3 (ipykernel)"
  },
  "language_info": {
   "codemirror_mode": {
    "name": "ipython",
    "version": 2
   },
   "file_extension": ".py",
   "mimetype": "text/x-python",
   "name": "python",
   "nbconvert_exporter": "python",
   "pygments_lexer": "ipython2",
   "version": "2.7.6"
  }
 },
 "nbformat": 4,
 "nbformat_minor": 0
}
